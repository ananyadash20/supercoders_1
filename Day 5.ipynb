{
 "cells": [
  {
   "cell_type": "markdown",
   "id": "cc4119d7",
   "metadata": {},
   "source": [
    "#### WeCare insurance company wants to calculate premium of vehicles.\n",
    "#### Vehicles are of two types-Two wheeler and four wheeler.\n",
    "#### Each vehicle is identified by vehicle id,cost,type and premium amount. Premium amt is 2% of the cost of two wheelers and 6% of four wheeler.\n",
    "#### Calculate the premium amt and display the vehicle details.\n",
    "#### include getter and setter methods for all instance variables.display appropriate error message if the vehicle type is not correct.\n"
   ]
  },
  {
   "cell_type": "code",
   "execution_count": 11,
   "id": "00f82cbf",
   "metadata": {},
   "outputs": [],
   "source": [
    "class Insurance:\n",
    "        def __init__(self):\n",
    "            self.__vehicle_id=None\n",
    "            self.__cost=None\n",
    "            self.__vehicle_type=None\n",
    "            self.__premium=None\n",
    "        def set_values(self,vehicle_id,cost,vehicle_type):\n",
    "            self.__vehicle_id=vehicle_id\n",
    "            self.__cost=cost\n",
    "            self.__vehicle_type=vehicle_type     \n",
    "        def calculatePremium(self):\n",
    "            if self.__vehicle_type==\"Two wheeler\":\n",
    "                self.__premium=(self.__cost)*0.02\n",
    "            elif self.__vehicle_type==\"Four wheeler\":\n",
    "                self.__premium=(self.__cost)*0.06\n",
    "            else:\n",
    "                self.__premium=-1 \n",
    "        def get_values(self):\n",
    "            if self.__premium==-1:\n",
    "                print(\"Invalid Input\")\n",
    "            else:\n",
    "                print(f\"vehicle_id:{self.__vehicle_id}\")\n",
    "                print(f\"cost:{self.__cost}\")\n",
    "                print(f\"vehicle_type:{self.__vehicle_type}\")\n",
    "                print(f\"premium:{self.__premium}\")\n"
   ]
  },
  {
   "cell_type": "code",
   "execution_count": 15,
   "id": "ae53952a",
   "metadata": {},
   "outputs": [],
   "source": [
    "ob=Insurance()"
   ]
  },
  {
   "cell_type": "code",
   "execution_count": 16,
   "id": "2986bab7",
   "metadata": {},
   "outputs": [],
   "source": [
    "ob.set_values(101,22000,\"Two wheeler\")\n"
   ]
  },
  {
   "cell_type": "code",
   "execution_count": 17,
   "id": "acb2ee1a",
   "metadata": {},
   "outputs": [],
   "source": [
    "ob.calculatePremium()"
   ]
  },
  {
   "cell_type": "code",
   "execution_count": 18,
   "id": "f470be58",
   "metadata": {},
   "outputs": [
    {
     "name": "stdout",
     "output_type": "stream",
     "text": [
      "vehicle_id:Abcgf\n",
      "cost:22000\n",
      "vehicle_type:Two wheeler\n",
      "premium:440.0\n"
     ]
    }
   ],
   "source": [
    "ob.get_values()"
   ]
  },
  {
   "cell_type": "markdown",
   "id": "e7eaa171",
   "metadata": {},
   "source": [
    "#### Students are admitted based on marks scored in a qualifying exam.A student is identified by student_id,age and marks in the exam.\n",
    "  * Age is greater than 20\n",
    "  * Marks is between 0 and 100\n",
    "\n",
    "A Student qualifies for the admission if:\n",
    "  * Age and Marks are Valid\n",
    "  * Marks is greater than 65\n",
    "\n",
    "Rules to Follow:\n",
    "Class Name: Student\n",
    "-- Attributes: (private)\n",
    "   * student_id\n",
    "   * marks\n",
    "   * age\n",
    "\n",
    "Methods:\n",
    "(public)\n",
    "* _init_()\n",
    "* validate_marks()\n",
    "* validate_age()\n",
    "* check_qualification()\n",
    "    If So Return True\n",
    "    Else Return False\n",
    "    \n",
    "* setter methods for all instance variables\n",
    "* getter methods for all instance variables"
   ]
  },
  {
   "cell_type": "code",
   "execution_count": 50,
   "id": "dd963ce7",
   "metadata": {},
   "outputs": [],
   "source": [
    "class Student:\n",
    "    def __init__(self):\n",
    "        self.__student_id=None\n",
    "        self.__age=None\n",
    "        self.__marks=None\n",
    "        \n",
    "        \n",
    "    def set_id(self,student_id):\n",
    "        self.__student_id=student_id\n",
    "    def set_age(self,age):\n",
    "        self.__age=age\n",
    "    def set_marks(self,marks):\n",
    "        self.__marks=marks\n",
    "        \n",
    "        \n",
    "    def get_id(self):\n",
    "        return self.__student_id\n",
    "    def get_age(self):\n",
    "        return self.__age\n",
    "    def get_marks(self):\n",
    "        return self.__marks\n",
    "    \n",
    "    \n",
    "    def validate_marks(self):\n",
    "        if self.get_marks()>=0 and self.get_marks()<100:\n",
    "            return True\n",
    "        else:\n",
    "            return False\n",
    "    def validate_age(self):\n",
    "        if self.get_age()>20:\n",
    "            return True\n",
    "        else:\n",
    "            return False\n",
    "    def checkEligibility(self):\n",
    "        if self.validate_marks()==True and self.validate_age()== True:\n",
    "            if self.get_marks()>65:\n",
    "                print(\"True\")\n",
    "                print(self.fees())\n",
    "            else:\n",
    "                return False\n",
    "                \n",
    "    def fees(self):\n",
    "        d={1001:25575,1002:15500}\n",
    "        if self.get_marks()>85:\n",
    "            return str(d[self.get_id()]*0.75)\n",
    "        else:\n",
    "            return str(d[self.get_id()])\n",
    "         \n",
    "        \n",
    "    "
   ]
  },
  {
   "cell_type": "code",
   "execution_count": 51,
   "id": "652563ad",
   "metadata": {},
   "outputs": [],
   "source": [
    "ob=Student()\n"
   ]
  },
  {
   "cell_type": "code",
   "execution_count": 52,
   "id": "bf51792b",
   "metadata": {},
   "outputs": [
    {
     "name": "stdout",
     "output_type": "stream",
     "text": [
      "True\n",
      "19181.25\n"
     ]
    }
   ],
   "source": [
    "ob.set_id(1001)\n",
    "ob.set_age(22)\n",
    "ob.set_marks(90)\n",
    "ob.checkEligibility()"
   ]
  },
  {
   "cell_type": "markdown",
   "id": "817261c8",
   "metadata": {},
   "source": [
    "#### Customer class: validate quantity(): A person can order 1 to 5 pizzas.If quantity is valid return true else false.\n",
    "Customer Class:\n",
    "   * validate_quantity() -  Customer can order 1 to 5 pizzas. If valid return true, else return false\n",
    "\n",
    "PizzaService Class:\n",
    "   * Initialise static variable counter to 100\n",
    "   Attribute\n",
    "   * additional_topping is a boolean value which indicates whether additional topping is required or not, True if required. False, if not required\n",
    "   * validate_pizza_type() - Customers can order small or medium type pizzas. If valid return True else return False\n",
    "   * calculate_pizza_cost() - Calculate Pizza Cost, validate type and quantity\n",
    "                 - If valid, Identify the pizza cost based on the details mentioned below in the table\n",
    "                 - Set attribute pizza cost with calculated pizza cost\n",
    "                 - Autogenerate service_id based starting from 101 by first letter of pizza type\n",
    "                             - Example - S101, s102, m103, S104, M105 etc.\n",
    "                 - If Invalid set pizza cost to -1\n",
    "- Pizza Type | Cost | Additional Topping Cost\n",
    "- Small      | 150  |  35\n",
    "- Medium     |  200 |  50\n",
    "\n",
    "DoorDelivery Class:\n",
    "* validate_distance_in_kms() - Minimum distance for door delivery is 1km and maximum is 10km\n",
    "                             - If valid, return true, else return false\n",
    "* caclulate_pizza_cost() - Calculate pizza cost\n",
    "Validate Distance in kms\n",
    "if valid,\n",
    "Calculate pizza cost (Hint: Invoke Overriden Method in Parent Class)\n",
    "If pizza_cost is not -1 identify the delivery charge based on the details\n",
    "\n",
    "Distance in kms Delivery charge in km \n",
    "For first 5km      5\n",
    "For remaining 5km  7\n",
    "Else set pizza_cost to  -1\n",
    "\n",
    "Perform case insensitive string comparision\n",
    "For testing:\n",
    "Create objects of PizzaService and Doordelivery Class\n",
    "Invoke calculate_pizza_cost() on Pizzaservice and DoorDelivery\n",
    "Display the details"
   ]
  },
  {
   "cell_type": "code",
   "execution_count": null,
   "id": "b2181c06",
   "metadata": {},
   "outputs": [],
   "source": [
    "class Customer():\n",
    "    def __init__(self):\n",
    "        self.quantity=None\n",
    "    def setquantity(self,quantity):\n",
    "        self.quantity=quantity\n",
    "    def getquantity(self):\n",
    "        return self.quantity\n",
    "    def validate_quantity(self):\n",
    "        if self.getquantity() is in range(1,6):\n",
    "            return True\n",
    "        else:\n",
    "            return False\n",
    "        \n",
    "        \n",
    "class pizzaService(Customer):\n",
    "    __count=100\n",
    "    def __init__(self):\n",
    "        self.additional_topping=None\n",
    "        self.pizza_type=None\n",
    "        self.pizza_cost=None\n",
    "        self.additional_cost=None\n",
    "        self.service_id=None\n",
    "    def setadditionaltopping(self,additional_topping):\n",
    "        self.additional_topping=additonal_topping\n",
    "    def setpizza_type(self,pizza_type):\n",
    "        self.pizza_type=pizza_type\n",
    "    def setpizza_cost(self,pizza_cost):\n",
    "        self.pizza_cost=pizza_cost\n",
    "    def setservice_id(self,service_id):\n",
    "        self.service_id=service_id\n",
    "    \n",
    "    def getadditionaltopping(self):\n",
    "        return self.additional_topping\n",
    "    def getpizza_type(self):\n",
    "        return self.pizza_type\n",
    "    def getpizza_cost(self,pizza_cost):\n",
    "        return self.pizza_cost\n",
    "    def setadditional_cost(self):\n",
    "        return self.additional_cost\n",
    "    def getservice_id(self):\n",
    "        return self.service_id\n",
    "\n",
    "    \n",
    "    def validate_pizza_type(self):\n",
    "        if self.getpizza_type()== \"Medium\" or self.getpizza_type()==\"medium\":\n",
    "            pizzaService.count+=1\n",
    "            self.service_id=self.getpizza_type()[0]+str(pizzaService.count)\n",
    "            print(sel)\n",
    "    \n",
    "    \n",
    "    \n",
    "    \n",
    "        \n",
    "        \n",
    "        "
   ]
  }
 ],
 "metadata": {
  "kernelspec": {
   "display_name": "Python 3 (ipykernel)",
   "language": "python",
   "name": "python3"
  },
  "language_info": {
   "codemirror_mode": {
    "name": "ipython",
    "version": 3
   },
   "file_extension": ".py",
   "mimetype": "text/x-python",
   "name": "python",
   "nbconvert_exporter": "python",
   "pygments_lexer": "ipython3",
   "version": "3.9.12"
  }
 },
 "nbformat": 4,
 "nbformat_minor": 5
}
