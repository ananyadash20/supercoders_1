{
 "cells": [
  {
   "cell_type": "code",
   "execution_count": 10,
   "id": "5d6f7ad4",
   "metadata": {},
   "outputs": [
    {
     "name": "stdout",
     "output_type": "stream",
     "text": [
      "1221\n",
      "1331\n"
     ]
    }
   ],
   "source": [
    "#Function called nearlest_palindrome() which accepts a number and returns the nearest palindrome greater than the given number.\n",
    "#i/p= 99 and o/p=101\n",
    "def isPalindrome(n):\n",
    "    if str(n)[: :-1]==str(n):\n",
    "        return True\n",
    "def nearest_palindrome(n):\n",
    "    flag=0\n",
    "    while flag!=1:\n",
    "        n+=1\n",
    "        if isPalindrome(n)==True:\n",
    "            print(n)\n",
    "            flag =1\n",
    "        \n",
    "n=int(input())\n",
    "nearest_palindrome(n)"
   ]
  },
  {
   "cell_type": "markdown",
   "id": "50736560",
   "metadata": {},
   "source": [
    "#### FInd the medical speciality visited by the maximum no. of patients.Assume that there is always only one. \n",
    "#### Perform case sensitive string comparision wherever necesary.\n",
    "#### I/p=[101,P,102,O,302,P,305,P] o/p= Pediatrics\n",
    "#### {\"P\":\"Pediatrics\",\"O\":\"Orthopedics\",\"E\":\"ENT\"}\n"
   ]
  },
  {
   "cell_type": "code",
   "execution_count": 17,
   "id": "56dd4aca",
   "metadata": {},
   "outputs": [
    {
     "name": "stdout",
     "output_type": "stream",
     "text": [
      "101 P 102 O 302 P 305 E\n",
      "Pediatrics\n"
     ]
    }
   ],
   "source": [
    "di={\"P\":\"Pediatrics\",\"O\":\"Orthopedics\",\"E\":\"ENT\"}\n",
    "l=list(input().split())\n",
    "d={}\n",
    "for i in range(1,len(l),2):\n",
    "    d[l[i]]=l.count(l[i])\n",
    "print(di[max(d)])\n",
    "       \n",
    "    "
   ]
  },
  {
   "cell_type": "code",
   "execution_count": 16,
   "id": "70a0ad6f",
   "metadata": {},
   "outputs": [
    {
     "data": {
      "text/plain": [
       "'Pediatrics'"
      ]
     },
     "execution_count": 16,
     "metadata": {},
     "output_type": "execute_result"
    }
   ],
   "source": [
    "di[max(d)]"
   ]
  },
  {
   "cell_type": "markdown",
   "id": "095fff6c",
   "metadata": {},
   "source": [
    "#### display all the common characters between two string. Return -1 if else."
   ]
  },
  {
   "cell_type": "code",
   "execution_count": 40,
   "id": "bc5e6d0e",
   "metadata": {},
   "outputs": [
    {
     "name": "stdout",
     "output_type": "stream",
     "text": [
      "lieyon\n"
     ]
    }
   ],
   "source": [
    "st1=\"I like Python\"\n",
    "st2=\"Java is a very popular language\"\n",
    "l1=list(st1)\n",
    "l2=list(st2)\n",
    "re=[]\n",
    "for i in range(len(l1)):\n",
    "    for j in range(len(l2)):\n",
    "        if l1[i]==l2[j] and l1[i] not in re and (l1[i]!=' ') :\n",
    "            re.append(l2[j])\n",
    "print(''.join(re))            \n",
    "    "
   ]
  },
  {
   "cell_type": "code",
   "execution_count": 39,
   "id": "ad514e15",
   "metadata": {},
   "outputs": [
    {
     "name": "stdout",
     "output_type": "stream",
     "text": [
      "lieyon"
     ]
    }
   ],
   "source": [
    "for ch in st1:\n",
    "    if ch in st2 and ch!=' ':\n",
    "            print(ch,end=\"\")"
   ]
  },
  {
   "cell_type": "code",
   "execution_count": 46,
   "id": "cd4c7841",
   "metadata": {},
   "outputs": [
    {
     "name": "stdout",
     "output_type": "stream",
     "text": [
      "The employee is eligible for special benefits\n"
     ]
    }
   ],
   "source": [
    "#OOPs\n",
    "class Employee:\n",
    "    def __int__(self):\n",
    "        self.employee_id=None\n",
    "    def check_eligibility(self):\n",
    "        if(self.employee_id>=7000 and self.employee_id<=10000):\n",
    "            print(\"The employee is eligible for special benefits\")\n",
    "        else:\n",
    "            print(\"Not eligible\")\n",
    "emp1=Employee()\n",
    "emp1.employee_id=8000\n",
    "emp1.check_eligibility()"
   ]
  },
  {
   "cell_type": "code",
   "execution_count": 51,
   "id": "5103c7af",
   "metadata": {},
   "outputs": [
    {
     "name": "stdout",
     "output_type": "stream",
     "text": [
      "10\n",
      "15\n"
     ]
    }
   ],
   "source": [
    "class Example:\n",
    "    def __init__(self,num):\n",
    "        self.num=num\n",
    "    def set_num(self,num):\n",
    "        self.num=num\n",
    "    def get_num(self):\n",
    "        return self.num\n",
    "obj=Example(10)\n",
    "print(obj.get_num())\n",
    "obj.set_num(15)\n",
    "print(obj.get_num())\n",
    "        "
   ]
  },
  {
   "cell_type": "code",
   "execution_count": 54,
   "id": "d02a5323",
   "metadata": {},
   "outputs": [
    {
     "name": "stdout",
     "output_type": "stream",
     "text": [
      "100\n"
     ]
    }
   ],
   "source": [
    "class Customer:\n",
    "    def __init__(self,id):\n",
    "        self.id=100\n",
    "c1=Customer(200)\n",
    "print(c1.id)"
   ]
  },
  {
   "cell_type": "code",
   "execution_count": 59,
   "id": "e9b67b1c",
   "metadata": {},
   "outputs": [
    {
     "name": "stdout",
     "output_type": "stream",
     "text": [
      "<__main__.Shoe object at 0x000001C7DB6786A0>\n",
      "Canvas 1000\n",
      "The unique id of the object is: 1957891114656\n",
      "The unique id of the object is: 1957891737536\n"
     ]
    }
   ],
   "source": [
    "class Shoe:\n",
    "    def __init__(self,material,price):\n",
    "        self.price=price\n",
    "        self.material=material\n",
    "s1=Shoe(1000,\"Canvas\")\n",
    "s2=Shoe(200,\"asdfjkem\")\n",
    "print(s1)\n",
    "print(s1.price,s1.material)\n",
    "print(\"The unique id of the object is:\",id(s1))\n",
    "print(\"The unique id of the object is:\",id(s2))"
   ]
  },
  {
   "cell_type": "code",
   "execution_count": 65,
   "id": "7e170c05",
   "metadata": {},
   "outputs": [
    {
     "name": "stdout",
     "output_type": "stream",
     "text": [
      "Shoe with price: 1000 and material:Canvas\n"
     ]
    }
   ],
   "source": [
    "class Shoe:\n",
    "    def __init__(self,price,material):\n",
    "        self.price=price\n",
    "        self.material=material\n",
    "    def __str__(self):\n",
    "        return \"Shoe with price: \"+str(self.price) + \" and material:\"+self.material\n",
    "s1=Shoe(1000,\"Canvas\")\n",
    "print(s1)"
   ]
  },
  {
   "cell_type": "code",
   "execution_count": 67,
   "id": "c1537075",
   "metadata": {},
   "outputs": [
    {
     "name": "stdout",
     "output_type": "stream",
     "text": [
      "Displaying details\n",
      "calculating price\n"
     ]
    }
   ],
   "source": [
    "class Mobile:\n",
    "    def display(self):\n",
    "        print(\"Displaying details\")\n",
    "    def purchase(self):\n",
    "        self.display()\n",
    "        print(\"calculating price\")\n",
    "Mobile().purchase()"
   ]
  },
  {
   "cell_type": "code",
   "execution_count": 70,
   "id": "36ba9958",
   "metadata": {},
   "outputs": [
    {
     "name": "stdout",
     "output_type": "stream",
     "text": [
      "<__main__.Table object at 0x000001C7DB6C60D0> <__main__.Table object at 0x000001C7DB6C60D0> <__main__.Table object at 0x000001C7DB6C68E0>\n"
     ]
    }
   ],
   "source": [
    "class Table:\n",
    "    def __init__(self):\n",
    "        self.no_of_legs=4\n",
    "        self.glass_top=None\n",
    "        self.wooden_top=None\n",
    "dining_table=Table()\n",
    "back_table=Table()\n",
    "front_table=Table()\n",
    "front_table=back_table\n",
    "back_table=dining_table\n",
    "print(dining_table,back_table,front_table)"
   ]
  },
  {
   "cell_type": "code",
   "execution_count": null,
   "id": "0b91f160",
   "metadata": {},
   "outputs": [],
   "source": []
  }
 ],
 "metadata": {
  "kernelspec": {
   "display_name": "Python 3 (ipykernel)",
   "language": "python",
   "name": "python3"
  },
  "language_info": {
   "codemirror_mode": {
    "name": "ipython",
    "version": 3
   },
   "file_extension": ".py",
   "mimetype": "text/x-python",
   "name": "python",
   "nbconvert_exporter": "python",
   "pygments_lexer": "ipython3",
   "version": "3.9.12"
  }
 },
 "nbformat": 4,
 "nbformat_minor": 5
}
