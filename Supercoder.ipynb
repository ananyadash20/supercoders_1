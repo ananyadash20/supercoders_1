{
 "cells": [
  {
   "cell_type": "code",
   "execution_count": null,
   "id": "5438153c",
   "metadata": {},
   "outputs": [],
   "source": [
    "nums=[2,7,11,15]\n",
    "l1=[]\n",
    "def sum1():\n",
    "    for i in range(1,len(nums)):\n",
    "        for j in range(len(nums)-1,-1,-1):\n",
    "            if nums[i]+nums[j]==17:\n",
    "                l1.append(i)\n",
    "                l1.append(j)\n",
    "    return l1"
   ]
  },
  {
   "cell_type": "code",
   "execution_count": null,
   "id": "a412eb46",
   "metadata": {},
   "outputs": [],
   "source": [
    "l1=[]\n",
    "for i in range(len(nums)-1):\n",
    "    for j in range(len(nums)-1,-1,-1):\n",
    "        if nums[i]+nums[j]==target:\n",
    "            l1.append(i)\n",
    "            l1.append(j)\n",
    "        if len(l1)==2:\n",
    "            break\n",
    "        return l1\n",
    "      "
   ]
  },
  {
   "cell_type": "code",
   "execution_count": null,
   "id": "f5947ee7",
   "metadata": {},
   "outputs": [],
   "source": [
    "n=int(input())\n",
    "if n%3==0 and n%5==0:\n",
    "    print(\"n is a multiple of 3 and 5\")\n",
    "elif n%3==0 and n%5!=0:\n",
    "    print(\"Multiple of 3 only\")\n",
    "elif n%3!=0 and n%5==0:\n",
    "    print(\"Multiple of 5 only\")\n",
    "else:\n",
    "    print(\"Invalid input\")"
   ]
  },
  {
   "cell_type": "code",
   "execution_count": null,
   "id": "c7487f6f",
   "metadata": {},
   "outputs": [],
   "source": [
    "#Find the hcf of a number\n",
    "num1,num2=map(int,input().split())\n",
    "hcf=1\n",
    "smaller=num1 if num1<num2 else num1\n",
    "for i in range(1,smaller+1):\n",
    "    if(num1%i==0 and num2%i==0):\n",
    "        hcf=i\n",
    "print(\"The hcf of the given numbers is: \"+str(hcf))"
   ]
  },
  {
   "cell_type": "code",
   "execution_count": null,
   "id": "9ebadb16",
   "metadata": {},
   "outputs": [],
   "source": [
    "n=int(input())\n",
    "s=input()\n",
    "k=list(s)\n",
    "cnt=0\n",
    "for i in range(n):\n",
    "    if k[i]!=k[-(i+1)]:\n",
    "        k.pop()\n",
    "        cnt+=1\n",
    "        if k[i]==k[-(i+1)]:\n",
    "            print(cnt)\n",
    "            "
   ]
  },
  {
   "cell_type": "code",
   "execution_count": null,
   "id": "e43761e0",
   "metadata": {},
   "outputs": [],
   "source": [
    "complex_number=complex(3,8)\n",
    "print(complex_number, type(complex_number))"
   ]
  },
  {
   "cell_type": "code",
   "execution_count": null,
   "id": "ee40093b",
   "metadata": {},
   "outputs": [],
   "source": [
    "#"
   ]
  },
  {
   "cell_type": "code",
   "execution_count": null,
   "id": "120d254d",
   "metadata": {},
   "outputs": [],
   "source": []
  },
  {
   "cell_type": "code",
   "execution_count": null,
   "id": "91669c3f",
   "metadata": {},
   "outputs": [],
   "source": []
  },
  {
   "cell_type": "code",
   "execution_count": null,
   "id": "1c6c4fb3",
   "metadata": {},
   "outputs": [],
   "source": [
    "for i in range(100):\n",
    "    if i==50:\n",
    "        break\n",
    "    print(i,end=\" \")"
   ]
  },
  {
   "cell_type": "code",
   "execution_count": null,
   "id": "b753a8b6",
   "metadata": {},
   "outputs": [],
   "source": [
    "for i in range(100):\n",
    "    if i==50:\n",
    "        continue\n",
    "    print(i,end=\" \")"
   ]
  },
  {
   "cell_type": "code",
   "execution_count": null,
   "id": "8af5525e",
   "metadata": {},
   "outputs": [],
   "source": [
    "for i in range(100):\n",
    "    if i==50:\n",
    "        pass\n",
    "    print(i,end=\" \")"
   ]
  },
  {
   "cell_type": "code",
   "execution_count": null,
   "id": "2b2e36b3",
   "metadata": {},
   "outputs": [],
   "source": [
    "def fun1(n1,n2):\n",
    "    return n1+float(n2)\n",
    "print(\"Value returned\",fun1(10.2,'20'))\n",
    "#print()__str__"
   ]
  },
  {
   "cell_type": "code",
   "execution_count": null,
   "id": "ee800a7f",
   "metadata": {},
   "outputs": [],
   "source": [
    "#positional arguments\n",
    "def fun1(n1,n2,n3,n4):\n",
    "    print(\"n1\",n1,\"n2\",n2,\"n3\",n3,\"n4\",n4)\n",
    "fun1(10,20,21,22)\n",
    "    "
   ]
  },
  {
   "cell_type": "code",
   "execution_count": null,
   "id": "3145a448",
   "metadata": {},
   "outputs": [],
   "source": [
    "#Keyword arguments\n",
    "def fun2(n1,n2,n3=2,n4=10):\n",
    "    print(\"n1\",n1,\"n2\",n2,\"n3\",n3,\"n4\",n4)\n",
    "fun2(n2=33,n1=44,n4=30)\n",
    "    "
   ]
  },
  {
   "cell_type": "code",
   "execution_count": null,
   "id": "fba3b3d1",
   "metadata": {},
   "outputs": [],
   "source": [
    "#variable number of arguments\n",
    "def fun3(*var):\n",
    "    for i in var:\n",
    "        print(i,end=' ') \n",
    "fun3(10,20)\n",
    "print()\n",
    "fun3(10,20,30,40)"
   ]
  },
  {
   "cell_type": "code",
   "execution_count": null,
   "id": "52d68673",
   "metadata": {},
   "outputs": [],
   "source": [
    "def add(*var):\n",
    "    sum1=0\n",
    "    for i in var:\n",
    "        sum1=sum1+i\n",
    "    return(sum1)\n",
    "print(add(10,20))\n",
    "print(add(20,45,55))"
   ]
  },
  {
   "cell_type": "code",
   "execution_count": null,
   "id": "054c763d",
   "metadata": {},
   "outputs": [],
   "source": [
    "x,y,z=map(int,input().split())\n",
    "c1=z%5\n",
    "c2=z//5\n",
    "print(c1,c2)"
   ]
  },
  {
   "cell_type": "code",
   "execution_count": null,
   "id": "3ca2882a",
   "metadata": {},
   "outputs": [],
   "source": [
    "print(\"Enter your currency: \")\n",
    "curr=input()\n",
    "n=int(input())\n",
    "if curr==\"Euro\":\n",
    "    print(0.0147*n)\n",
    "elif curr==\"British Pound\":\n",
    "    print(n*0.0100)\n",
    "elif curr==\"Australian Dollar\":\n",
    "    print(n*0.02140)\n",
    "elif curr==\"Canadian Dollar\":\n",
    "    print(n*0.02027)\n",
    "else:\n",
    "    print(-1)"
   ]
  },
  {
   "cell_type": "code",
   "execution_count": null,
   "id": "6686408c",
   "metadata": {},
   "outputs": [],
   "source": [
    "#rate per adult=Rs.3750.0 and per child =1/3rd of the rate for adult\n",
    "#tax=7% of thw whole ticket price\n",
    "#10%discount for final ticket\n",
    "def ticket_price(na,nc):\n",
    "    tax=0.07*((na*37550)+(nc*12516))\n",
    "    return (na*37550)+(nc*12516)+tax\n",
    "na=int(input())\n",
    "nc=int(input())\n",
    "ticket_price(na,nc)\n",
    "    "
   ]
  },
  {
   "cell_type": "code",
   "execution_count": null,
   "id": "7562fde1",
   "metadata": {},
   "outputs": [],
   "source": [
    "#Method 1\n",
    "text=input()\n",
    "l=[0,0]\n",
    "for ch in text:\n",
    "    if ch.isnumeric()==True:\n",
    "        l[1]+=1\n",
    "    elif ch.isalpha()==True:\n",
    "        l[0]+=1\n",
    "print(l)"
   ]
  },
  {
   "cell_type": "code",
   "execution_count": null,
   "id": "60e97b96",
   "metadata": {},
   "outputs": [],
   "source": [
    "l=list(map(int,input().split()))\n",
    "l.sort()\n",
    "print(l)\n"
   ]
  },
  {
   "cell_type": "code",
   "execution_count": null,
   "id": "d9359d4b",
   "metadata": {},
   "outputs": [],
   "source": [
    "#naive approach\n",
    "def sumn(l,n):\n",
    "    cnt=0\n",
    "    for i in range(0,len(l)):\n",
    "        for j in range(i+1,len(l)):\n",
    "            if l[i]+l[j]==n:\n",
    "                cnt+=1\n",
    "    return cnt \n",
    "l=list(map(int,input().split()))\n",
    "n=int(input())\n",
    "sumn(l,n)\n"
   ]
  },
  {
   "cell_type": "code",
   "execution_count": null,
   "id": "ba7744f0",
   "metadata": {},
   "outputs": [],
   "source": [
    "#optimized approach\n",
    "#sort the list\n",
    "#initialize i and j as start and end index of the array \n",
    "# if sum of i and j== sum then increment both by 1 if sum>su then decrement j or increment i\n",
    "def pair_of_numbers(l,su):\n",
    "    l.sort()\n",
    "    i=0\n",
    "    cnt=0\n",
    "    j=len(l)-1\n",
    "    while i<j:\n",
    "        if l[i]+l[j]<su:\n",
    "            i+=1\n",
    "        elif l[i]+l[j]>su:\n",
    "            j-=1\n",
    "        elif l[i]+l[j]==su:\n",
    "            cnt+=1\n",
    "            i+=1\n",
    "            j-=1\n",
    "    return cnt\n",
    "pair_of_numbers([1,2,3,5,4,6],9)    "
   ]
  },
  {
   "cell_type": "markdown",
   "id": "76a9a70c",
   "metadata": {},
   "source": [
    "#### python function which accepts a string and return a string made of the first two and the last two characters.If string length is <2 return -1\n"
   ]
  },
  {
   "cell_type": "code",
   "execution_count": null,
   "id": "4bb1ab6c",
   "metadata": {},
   "outputs": [],
   "source": [
    "str=input()\n",
    "s1=str[:2]\n",
    "s2=str[-2:]\n",
    "print(s1+s2)\n",
    "print(str[-3:])"
   ]
  },
  {
   "cell_type": "code",
   "execution_count": null,
   "id": "35fbb0df",
   "metadata": {},
   "outputs": [],
   "source": [
    "str=input()\n",
    "if str[-3:]==\"ing\":\n",
    "    print(str+'ly')\n",
    "elif str[-3:]!=\"ing\":\n",
    "    print(str+\"ing\")\n",
    "elif len(str)<3:\n",
    "    print(str)"
   ]
  },
  {
   "cell_type": "code",
   "execution_count": null,
   "id": "e6549bf1",
   "metadata": {},
   "outputs": [],
   "source": [
    "#return true if the number and its double have the same digits\n",
    "def check_double(num):\n",
    "    double=num*2\n",
    "    if len(str(num))==len(str(double)):\n",
    "        l1=list(str(num)).sort()\n",
    "        l2=list(str(double)).sort()\n",
    "        if l1==l2:\n",
    "            return True\n",
    "        else:\n",
    "            return False\n",
    "num=int(input())\n",
    "check_double(num)   "
   ]
  },
  {
   "cell_type": "code",
   "execution_count": null,
   "id": "ae22ea8a",
   "metadata": {},
   "outputs": [],
   "source": [
    "def find_more_than_avg(marks):\n",
    "    avg=sum(marks)/len(marks)\n",
    "    cnt=0\n",
    "    for ele in marks:\n",
    "        if ele>avg:\n",
    "            cnt+=1\n",
    "    print((cnt/len(marks))*100)\n",
    "def generate_frequency(marks):\n",
    "    freq=[0]*25\n",
    "    for ele in marks:\n",
    "        freq[ele-1]+=1\n",
    "    print(freq)\n",
    "    print(sorted(marks))\n",
    "#marks=tuple(map(int,input().split()))\n",
    "#marks=list(marks) \n",
    "generate_frequency((12,18,25,24,2,5,18,20,20,21))\n",
    "find_more_than_avg((12,18,25,24,2,5,18,20,20,21))"
   ]
  },
  {
   "cell_type": "code",
   "execution_count": null,
   "id": "bef9b371",
   "metadata": {},
   "outputs": [],
   "source": [
    "def translate(swedish,englist):\n",
    "    for i in englist.split(' '):\n",
    "        print(swedish[i],end=\" \")\n",
    "swedish={\"merry\":\"god\",\"christmas\":\"jul\",\"and\":\"och\",\"happy\":\"gott\",\"new\":\"nytt\",\"year\":\"ar\"}\n",
    "englist=input()\n",
    "translate(swedish,englist)"
   ]
  },
  {
   "cell_type": "code",
   "execution_count": null,
   "id": "ddb7507c",
   "metadata": {},
   "outputs": [],
   "source": [
    "x,y=map(int,input().split())\n",
    "l=[i for i in range(x,y+1)]\n",
    "cnt=0\n",
    "for i in range(len(l)):\n",
    "    for j in range(i+1,len(l)+1):\n",
    "        if sum(l[i:j])%2!=0:\n",
    "            cnt+=1\n",
    "print(cnt)"
   ]
  },
  {
   "cell_type": "code",
   "execution_count": null,
   "id": "10a164b4",
   "metadata": {},
   "outputs": [],
   "source": [
    "n1,n2=map(int,input().split())\n",
    "array=[i for i in range(n1,n2+1)]\n",
    "print(array)\n",
    "result=[]\n",
    "#for i in range(len(array)):\n",
    "    #for j in range(i,len(array)):\n",
    "        #result.append(array[i:j+1])\n",
    "result=[array[i:j+1] for i in range(len(array)) for j in range(i,len(array))]\n",
    "print(result)"
   ]
  },
  {
   "cell_type": "code",
   "execution_count": null,
   "id": "6b971efa",
   "metadata": {},
   "outputs": [],
   "source": [
    "#List comprehensions\n",
    "#For loop\n",
    "forloop=[]\n",
    "n=int(input())\n",
    "for i in range(1,n+1):\n",
    "    forloop.append(i)\n",
    "print(\"Using for loop\", forloop)"
   ]
  },
  {
   "cell_type": "code",
   "execution_count": null,
   "id": "0fcde5d2",
   "metadata": {},
   "outputs": [],
   "source": [
    "#Using list comprehensions\n",
    "l=[i for i in range(1,n+1)]\n",
    "print(\"Using list comprehensions\", l)"
   ]
  },
  {
   "cell_type": "code",
   "execution_count": null,
   "id": "33977b6d",
   "metadata": {},
   "outputs": [],
   "source": [
    "x=int(input())\n",
    "print([i if i%2!=0 else i**2 for i in range(x)])"
   ]
  },
  {
   "cell_type": "code",
   "execution_count": null,
   "id": "fcf47ff5",
   "metadata": {},
   "outputs": [],
   "source": [
    "print([i**3 if i%2==0 else i**2 for i in range(x)])"
   ]
  },
  {
   "cell_type": "code",
   "execution_count": 14,
   "id": "58d4a6d4",
   "metadata": {},
   "outputs": [
    {
     "name": "stdout",
     "output_type": "stream",
     "text": [
      "[[1, 8, 9, 64], [25, 216, 49, 512], [81, 1000, 121, 1728], [169, 2744, 225, 4096]]\n"
     ]
    }
   ],
   "source": [
    "#Using for loop\n",
    "result=[]\n",
    "mat=[[1,2,3,4],[5,6,7,8],[9,10,11,12],[13,14,15,16]]\n",
    "for i in range(len(mat)):\n",
    "    for j in range(len(mat[0])):\n",
    "        if mat[i][j]%2==0:\n",
    "            mat[i][j]**=3\n",
    "        else:\n",
    "            mat[i][j]**=2\n",
    "print(mat)            "
   ]
  },
  {
   "cell_type": "code",
   "execution_count": 11,
   "id": "238379ea",
   "metadata": {},
   "outputs": [
    {
     "data": {
      "text/plain": [
       "[[1, 8, 9, 64, 25, 216, 49, 512, 81, 1000, 121, 1728, 169, 2744, 225, 4096]]"
      ]
     },
     "execution_count": 11,
     "metadata": {},
     "output_type": "execute_result"
    }
   ],
   "source": [
    "#using list comprehensions\n",
    "[mat[i][j]**3 if mat[i][j]%2==0 else mat[i][j]**2 for i in range(len(mat)) for j in range(len(mat[0]))]"
   ]
  },
  {
   "cell_type": "code",
   "execution_count": 31,
   "id": "327f886b",
   "metadata": {},
   "outputs": [
    {
     "name": "stdout",
     "output_type": "stream",
     "text": [
      "[[1, 8, 9, 64], [25, 216, 49, 512], [81, 1000, 121, 1728], [169, 2744, 225, 4096]]\n"
     ]
    }
   ],
   "source": [
    "result=[]\n",
    "mat=[[1,2,3,4],[5,6,7,8],[9,10,11,12],[13,14,15,16]]\n",
    "for i in range(len(mat)):\n",
    "    res=[]\n",
    "    for j in range(len(mat[0])):\n",
    "        if mat[i][j]%2==0:\n",
    "            res.append(mat[i][j]**3)\n",
    "        else:\n",
    "            res.append(mat[i][j]**2)\n",
    "    result.append(res)\n",
    "print(result)        "
   ]
  },
  {
   "cell_type": "code",
   "execution_count": 32,
   "id": "eae0f0d6",
   "metadata": {},
   "outputs": [
    {
     "name": "stdout",
     "output_type": "stream",
     "text": [
      "[(6, 2), (4, 8), (6, 2), (1, 3), (2, 7), (2, 7)]\n"
     ]
    }
   ],
   "source": [
    "#for each number in lsit_b,get the number and its position(index) in mylist as turnlist of tuples\n",
    "my_list=[9,3,6,1,5,0,8,2,4,7]\n",
    "list_b=[6,4,6,1,2,2]\n",
    "result=[]\n",
    "for i in range(len(list_b)):\n",
    "    newtuple=(list_b[i],my_list.index(list_b[i]))\n",
    "    result.append(newtuple)\n",
    "print(result)\n",
    "    "
   ]
  },
  {
   "cell_type": "code",
   "execution_count": 36,
   "id": "144a60de",
   "metadata": {},
   "outputs": [
    {
     "data": {
      "text/plain": [
       "[(6, 2), (4, 8), (6, 2), (1, 3), (2, 7), (2, 7)]"
      ]
     },
     "execution_count": 36,
     "metadata": {},
     "output_type": "execute_result"
    }
   ],
   "source": [
    "[(list_b[i],my_list.index(list_b[i])) for i in range(len(list_b))]"
   ]
  },
  {
   "cell_type": "code",
   "execution_count": 38,
   "id": "08e93b1a",
   "metadata": {},
   "outputs": [
    {
     "name": "stdout",
     "output_type": "stream",
     "text": [
      "{6: 2, 4: 8, 1: 3, 2: 7}\n"
     ]
    }
   ],
   "source": [
    "#Dictionary comprehension\n",
    "result={ele: my_list.index(ele) for ele in list_b}\n",
    "print(result)"
   ]
  },
  {
   "cell_type": "code",
   "execution_count": 45,
   "id": "a6c311bf",
   "metadata": {},
   "outputs": [
    {
     "name": "stdout",
     "output_type": "stream",
     "text": [
      "['new', 'world', 'record', 'is', 'set', 'holy', 'city', 'ayodhya', 'eve', 'diwali', 'tuesday', 'over', 'three', 'lakh', 'diyas', 'or', 'earthen', 'lamps', 'lit', 'up', 'simultaneously', 'banks', 'surya', 'river']\n"
     ]
    }
   ],
   "source": [
    "#tokenize the following sentences into words\n",
    "sentences=[\"a new world record is set\",\"in the holy city of ayodhya\",\"on the eve of diwali on tuesday\",\"with over three lakh diyas or earthen lamps\",\"lit up simultaneously on the banks of surya river\"]\n",
    "stopwords=['for','a','of','the','and','to','in','on','with','was']\n",
    "result=[]\n",
    "for i in sentences:\n",
    "    for ch in i.split():\n",
    "        if ch not in stopwords:\n",
    "            result.append(ch)\n",
    "print(result)\n",
    "            "
   ]
  },
  {
   "cell_type": "code",
   "execution_count": 48,
   "id": "584e8728",
   "metadata": {},
   "outputs": [
    {
     "data": {
      "text/plain": [
       "['new',\n",
       " 'world',\n",
       " 'record',\n",
       " 'is',\n",
       " 'set',\n",
       " 'holy',\n",
       " 'city',\n",
       " 'ayodhya',\n",
       " 'eve',\n",
       " 'diwali',\n",
       " 'tuesday',\n",
       " 'over',\n",
       " 'three',\n",
       " 'lakh',\n",
       " 'diyas',\n",
       " 'or',\n",
       " 'earthen',\n",
       " 'lamps',\n",
       " 'lit',\n",
       " 'up',\n",
       " 'simultaneously',\n",
       " 'banks',\n",
       " 'surya',\n",
       " 'river']"
      ]
     },
     "execution_count": 48,
     "metadata": {},
     "output_type": "execute_result"
    }
   ],
   "source": [
    "[ch for i in sentences  for ch in i.split() if ch not in stopwords]"
   ]
  },
  {
   "cell_type": "code",
   "execution_count": 55,
   "id": "20ad82a5",
   "metadata": {
    "scrolled": true
   },
   "outputs": [
    {
     "name": "stdout",
     "output_type": "stream",
     "text": [
      "3 2 6 5 1 4 8 9\n"
     ]
    },
    {
     "ename": "TypeError",
     "evalue": "can only concatenate str (not \"int\") to str",
     "output_type": "error",
     "traceback": [
      "\u001b[1;31m---------------------------------------------------------------------------\u001b[0m",
      "\u001b[1;31mTypeError\u001b[0m                                 Traceback (most recent call last)",
      "Input \u001b[1;32mIn [55]\u001b[0m, in \u001b[0;36m<cell line: 9>\u001b[1;34m()\u001b[0m\n\u001b[0;32m     11\u001b[0m         num1\u001b[38;5;241m+\u001b[39m\u001b[38;5;241m=\u001b[39ml[i]\n\u001b[0;32m     12\u001b[0m     \u001b[38;5;28;01melif\u001b[39;00m i\u001b[38;5;241m>\u001b[39m\u001b[38;5;241m=\u001b[39ml\u001b[38;5;241m.\u001b[39mindex(\u001b[38;5;241m5\u001b[39m) \u001b[38;5;129;01mand\u001b[39;00m i\u001b[38;5;241m<\u001b[39ml\u001b[38;5;241m.\u001b[39mindex(\u001b[38;5;241m8\u001b[39m):\n\u001b[1;32m---> 13\u001b[0m         num2\u001b[38;5;241m=\u001b[39m\u001b[38;5;28;43mstr\u001b[39;49m\u001b[43m(\u001b[49m\u001b[43mnum2\u001b[49m\u001b[43m)\u001b[49m\u001b[38;5;241;43m+\u001b[39;49m\u001b[43ml\u001b[49m\u001b[43m[\u001b[49m\u001b[43mi\u001b[49m\u001b[43m]\u001b[49m\n\u001b[0;32m     14\u001b[0m \u001b[38;5;28mprint\u001b[39m(num1)\n\u001b[0;32m     15\u001b[0m \u001b[38;5;28mprint\u001b[39m(num2)\n",
      "\u001b[1;31mTypeError\u001b[0m: can only concatenate str (not \"int\") to str"
     ]
    }
   ],
   "source": [
    "#input a string of comma separated numbers.the nos 5 and 8 are present in the list assuming 8 always comes after 5.\n",
    "#case1=add all the nos which do not lie between 5 and 8 in the ip\n",
    "#case: num2= number formed by concatenation of all nos between 5 and 8\n",
    "#input=3,2,6,5,1,4,8,9\n",
    "#num1=3+2+6+9=20 num2=5148 o/p=5148+20=5168\n",
    "l=list(map(int,input().split()))\n",
    "num1=0\n",
    "num2=''\n",
    "for i in range(len(l)):\n",
    "    if i<l.index(5) or i>l.index(8):\n",
    "        num1+=l[i]\n",
    "    elif i>=l.index(5) and i<l.index(8):\n",
    "        num2=str(num2)+l[i]\n",
    "print(num1)\n",
    "print(num2)"
   ]
  },
  {
   "cell_type": "code",
   "execution_count": 56,
   "id": "a173d2e9",
   "metadata": {},
   "outputs": [],
   "source": [
    "#i/p: rhdt:246,ghftd:1246. Here every string is associated with a number sp by :. If sum of squares of digits is even\n",
    "#THEN rotate the string by 1.\n",
    "#if odd then rotate the string left by 2\n",
    "#2*2+4*4+6*6=56 is even so rotate rhdt=trhd \n"
   ]
  },
  {
   "cell_type": "code",
   "execution_count": null,
   "id": "6674cbba",
   "metadata": {},
   "outputs": [],
   "source": [
    "#Given a number n, wap to find the sum of the largest prime factors of each of nine consecutive numbers starting from n.\n",
    "n=int(input())\n",
    "def isPrime(n):\n",
    "    count=0\n",
    "    for i in range(1,n+1):\n",
    "        if n%i==0:\n",
    "            count+=1\n",
    "    if count==2:\n",
    "        return n\n",
    "    else:\n",
    "        return -1\n",
    "def primefactor():\n",
    "    "
   ]
  }
 ],
 "metadata": {
  "kernelspec": {
   "display_name": "Python 3 (ipykernel)",
   "language": "python",
   "name": "python3"
  },
  "language_info": {
   "codemirror_mode": {
    "name": "ipython",
    "version": 3
   },
   "file_extension": ".py",
   "mimetype": "text/x-python",
   "name": "python",
   "nbconvert_exporter": "python",
   "pygments_lexer": "ipython3",
   "version": "3.9.12"
  }
 },
 "nbformat": 4,
 "nbformat_minor": 5
}
